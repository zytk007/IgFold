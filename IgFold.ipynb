{
  "cells": [
    {
      "cell_type": "markdown",
      "metadata": {
        "id": "5AEsv1z5KXXA"
      },
      "source": [
        "# **IgFold**: Fast, accurate antibody structure prediction\n",
        "\n",
        "Official notebook for [IgFold](https://www.biorxiv.org/content/10.1101/2022.04.20.488972): Fast, accurate antibody structure prediction from deep learning on massive set of natural antibodies.  The code, data, and weights for this work are made available for non-commercial use. For commercial inquiries, please contact `jruffolo[at]jhu.edu`."
      ]
    },
    {
      "cell_type": "code",
      "execution_count": 1,
      "metadata": {
        "cellView": "form",
        "id": "0PsLNGK57LDq"
      },
      "outputs": [],
      "source": [
        "#@title Input antibody Fv sequences then press `Runtime` -> `Run all`\n",
        "\n",
        "import os\n",
        "import sys\n",
        "\n",
        "python_version = f\"{sys.version_info.major}.{sys.version_info.minor}\"\n",
        "\n",
        "name = \"my_antibody\" #@param {type:\"string\"}\n",
        "pred_dir = name\n",
        "os.makedirs(pred_dir, exist_ok=True)\n",
        "\n",
        "#@markdown Enter antibody sequences for structure prediction. To predict a nanobody structure (or an individual heavy or light chain), simply provide one sequence.\n",
        "heavy_sequence = \"EVQLVQSGPEVKKPGTSVKVSCKASGFTFMSSAVQWVRQARGQRLEWIGWIVIGSGNTNYAQKFQERVTITRDMSTSTAYMELSSLRSEDTAVYYCAAPYCSSISCNDGFDIWGQGTMVTVS\" #@param {type:\"string\"}\n",
        "light_sequence = \"DVVMTQTPFSLPVSLGDQASISCRSSQSLVHSNGNTYLHWYLQKPGQSPKLLIYKVSNRFSGVPDRFSGSGSGTDFTLKISRVEAEDLGVYFCSQSTHVPYTFGGGTKLEIK\" #@param {type:\"string\"}\n",
        "\n",
        "sequences = {}\n",
        "if len(heavy_sequence) > 0:\n",
        "    sequences[\"H\"] = heavy_sequence\n",
        "if len(light_sequence) > 0:\n",
        "    sequences[\"L\"] = light_sequence\n",
        "\n",
        "#@markdown Perform structural refinement with OpenMM\n",
        "do_refine = True #@param {type:\"boolean\"}\n",
        "#@markdown Renumber predicted antibody structure (Chothia) with AbNumber\n",
        "do_renum = False #@param {type:\"boolean\"}\n",
        "#@markdown Use only a single model for predictions (instead of model ensemble)\n",
        "single_model = False #@param {type:\"boolean\"}"
      ]
    },
    {
      "cell_type": "code",
      "source": [
        "!nvcc --version"
      ],
      "metadata": {
        "id": "adET_QT9UFnp",
        "outputId": "bc831366-ab2f-4b2a-af06-d7522f790f34",
        "colab": {
          "base_uri": "https://localhost:8080/"
        }
      },
      "execution_count": 2,
      "outputs": [
        {
          "output_type": "stream",
          "name": "stdout",
          "text": [
            "Python version: 3.11\n",
            "Operating system: Linux 6.1.123+\n",
            "Processor: x86_64\n",
            "TensorFlow version: 2.18.0\n",
            "PyTorch version: 2.6.0+cu124\n",
            "CUDA available: True\n",
            "CUDA version: 12.4\n",
            "GPU name: Tesla T4\n",
            "Running in Google Colab environment.\n",
            "nvcc: NVIDIA (R) Cuda compiler driver\n",
            "Copyright (c) 2005-2024 NVIDIA Corporation\n",
            "Built on Thu_Jun__6_02:18:23_PDT_2024\n",
            "Cuda compilation tools, release 12.5, V12.5.82\n",
            "Build cuda_12.5.r12.5/compiler.34385749_0\n"
          ]
        }
      ]
    },
    {
      "cell_type": "code",
      "execution_count": 3,
      "metadata": {
        "id": "LsJNdVE87Go2"
      },
      "outputs": [],
      "source": [
        "#@title Install dependencies (Colab/Python 3.11/CUDA 12.x 适配版)\n",
        "import os\n",
        "if not os.path.isfile(\"CODE_READY\"):\n",
        "    print(\"Installing igfold and dependencies...\")\n",
        "    # 安装兼容 CUDA 12.x 的 torch、torchvision\n",
        "    os.system(\"pip install --upgrade --force-reinstall torch==2.3.0 torchvision==0.18.0 --extra-index-url https://download.pytorch.org/whl/cu121\")\n",
        "    # 安装 igfold 及其依赖\n",
        "    os.system(\"pip install --upgrade --force-reinstall 'igfold>=0.3.0' biopython==1.83 einops==0.7.0 future==0.18.2 matplotlib==3.8.4 numpy==1.26.4 pytorch-lightning==2.2.3 requests==2.31.0 seaborn==0.13.2 tqdm==4.66.4 yapf==0.40.2 py3Dmol==2.0.4 fair-esm==2.0.0\")\n",
        "    os.system(\"touch CODE_READY\")\n",
        "if do_refine and not os.path.isfile(\"AMBER_READY\"):\n",
        "    print(\"Installing OpenMM (amber refinement)...\")\n",
        "    # OpenMM官方已支持pip安装，推荐直接pip而非conda\n",
        "    os.system(\"pip install openmm==8.1.1 pdbfixer==1.9.1\")\n",
        "    os.system(\"touch AMBER_READY\")\n",
        "if do_renum and not os.path.isfile(\"ABNUMBER_READY\"):\n",
        "    print(\"Installing abnumber (renumbering tool)...\")\n",
        "    os.system(\"pip install abnumber pandas\")\n",
        "    os.system(\"touch ABNUMBER_READY\")"
      ]
    },
    {
      "cell_type": "code",
      "source": [
        "!pip install --upgrade --force-reinstall igfold>=0.3.0 -v"
      ],
      "metadata": {
        "id": "mAMIX1RmWG5X"
      },
      "execution_count": null,
      "outputs": []
    },
    {
      "cell_type": "code",
      "execution_count": null,
      "metadata": {
        "id": "a2a3BsiE9AXI"
      },
      "outputs": [],
      "source": [
        "#@title Predict antibody structure with IgFold\n",
        "\n",
        "if f\"/usr/local/lib/python{python_version}/site-packages/\" not in sys.path:\n",
        "    sys.path.insert(0, f\"/usr/local/lib/python{python_version}/site-packages/\")\n",
        "\n",
        "from igfold.utils.visualize import *\n",
        "from igfold import IgFoldRunner\n",
        "\n",
        "num_models = 1 if single_model else 4\n",
        "igfold = IgFoldRunner(num_models=num_models)\n",
        "\n",
        "pred_pdb = os.path.join(pred_dir, f\"{name}.pdb\")\n",
        "pred = igfold.fold(\n",
        "    pred_pdb,\n",
        "    sequences=sequences,\n",
        "    do_refine=do_refine,\n",
        "    use_openmm=True,\n",
        "    do_renum=do_renum,\n",
        ")\n",
        "show_pdb(pred_pdb, len(sequences), bb_sticks=False, sc_sticks=True, color=\"rainbow\")"
      ]
    },
    {
      "cell_type": "code",
      "execution_count": null,
      "metadata": {
        "id": "xFOTYxsP9Cz1"
      },
      "outputs": [],
      "source": [
        "#@title Plot per-residue predicted RMSD\n",
        "\n",
        "prmsd_fig_file = os.path.join(pred_dir, f\"{name}_prmsd.png\")\n",
        "plot_prmsd(sequences, pred.prmsd.cpu(), prmsd_fig_file, shade_cdr=do_renum, pdb_file=pred_pdb)"
      ]
    },
    {
      "cell_type": "code",
      "execution_count": null,
      "metadata": {
        "id": "ajyElWbZ9EFF"
      },
      "outputs": [],
      "source": [
        "#@title Show predicted structure with predicted RMSD\n",
        "\n",
        "#@markdown Structure is colored from low (blue) to high (red) pRMSD.\n",
        "\n",
        "show_pdb(pred_pdb, len(sequences), bb_sticks=False, sc_sticks=True, color=\"b\")"
      ]
    },
    {
      "cell_type": "code",
      "execution_count": null,
      "metadata": {
        "id": "gZBzjpMdJ77q"
      },
      "outputs": [],
      "source": [
        "#@title Download results\n",
        "\n",
        "#@markdown Download zip file containing structure prediction and annotation results. If download fails, results are also accessible from file explorer on the left panel of the notebook.\n",
        "\n",
        "from google.colab import files\n",
        "import locale\n",
        "locale.getpreferredencoding = lambda: \"UTF-8\"\n",
        "\n",
        "!zip -FSr $name\".result.zip\" $pred_dir/ &> /dev/null\n",
        "files.download(f\"{name}.result.zip\")"
      ]
    }
  ],
  "metadata": {
    "colab": {
      "name": "IgFold.ipynb",
      "provenance": [],
      "gpuType": "T4"
    },
    "kernelspec": {
      "display_name": "Python 3",
      "name": "python3"
    },
    "language_info": {
      "name": "python",
      "version": "3.9.12"
    },
    "vscode": {
      "interpreter": {
        "hash": "84181e5f1827f203c248bfcd3a60e7e3a4ffc08f0a7dd8a443bd855d4ab14b5d"
      }
    },
    "accelerator": "GPU"
  },
  "nbformat": 4,
  "nbformat_minor": 0
}